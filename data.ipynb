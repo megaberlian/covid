{
 "cells": [
  {
   "cell_type": "markdown",
   "id": "1e900651",
   "metadata": {},
   "source": [
    "# sektor kesehatan masyarakat"
   ]
  },
  {
   "cell_type": "markdown",
   "id": "14576e8a",
   "metadata": {},
   "source": [
    "Proyek ini akan menganalisa manakah yang lebih baik ketika positif covid. Apakah isolasi mandiri atau dirawat ?"
   ]
  },
  {
   "cell_type": "code",
   "execution_count": 1,
   "id": "7790da4f",
   "metadata": {},
   "outputs": [
    {
     "data": {
      "text/html": [
       "<div>\n",
       "<style scoped>\n",
       "    .dataframe tbody tr th:only-of-type {\n",
       "        vertical-align: middle;\n",
       "    }\n",
       "\n",
       "    .dataframe tbody tr th {\n",
       "        vertical-align: top;\n",
       "    }\n",
       "\n",
       "    .dataframe thead th {\n",
       "        text-align: right;\n",
       "    }\n",
       "</style>\n",
       "<table border=\"1\" class=\"dataframe\">\n",
       "  <thead>\n",
       "    <tr style=\"text-align: right;\">\n",
       "      <th></th>\n",
       "      <th>id_kel</th>\n",
       "      <th>nama_provinsi</th>\n",
       "      <th>nama_kota</th>\n",
       "      <th>nama_kecamatan</th>\n",
       "      <th>nama_kelurahan</th>\n",
       "      <th>odp</th>\n",
       "      <th>proses_pemantauan</th>\n",
       "      <th>selesai_pemantauan</th>\n",
       "      <th>odp_meninggal</th>\n",
       "      <th>pdp</th>\n",
       "      <th>masih_dirawat</th>\n",
       "      <th>pulang_dan_sehat</th>\n",
       "      <th>pdp_meninggal</th>\n",
       "      <th>positif</th>\n",
       "      <th>dirawat</th>\n",
       "      <th>sembuh</th>\n",
       "      <th>meninggal</th>\n",
       "      <th>self_isolation</th>\n",
       "      <th>keterangan</th>\n",
       "    </tr>\n",
       "  </thead>\n",
       "  <tbody>\n",
       "    <tr>\n",
       "      <th>0</th>\n",
       "      <td>BELUM DIKETAHUI</td>\n",
       "      <td>BELUM DIKETAHUI</td>\n",
       "      <td>BELUM DIKETAHUI</td>\n",
       "      <td>BELUM DIKETAHUI</td>\n",
       "      <td>BELUM DIKETAHUI</td>\n",
       "      <td>13097</td>\n",
       "      <td>2</td>\n",
       "      <td>13036</td>\n",
       "      <td>59</td>\n",
       "      <td>5301</td>\n",
       "      <td>5</td>\n",
       "      <td>3736</td>\n",
       "      <td>1560</td>\n",
       "      <td>1486</td>\n",
       "      <td>221</td>\n",
       "      <td>289</td>\n",
       "      <td>25</td>\n",
       "      <td>951</td>\n",
       "      <td>NaN</td>\n",
       "    </tr>\n",
       "    <tr>\n",
       "      <th>1</th>\n",
       "      <td>LUAR DKI JAKARTA</td>\n",
       "      <td>LUAR DKI JAKARTA</td>\n",
       "      <td>LUAR DKI JAKARTA</td>\n",
       "      <td>LUAR DKI JAKARTA</td>\n",
       "      <td>LUAR DKI JAKARTA</td>\n",
       "      <td>13869</td>\n",
       "      <td>260</td>\n",
       "      <td>13597</td>\n",
       "      <td>12</td>\n",
       "      <td>3378</td>\n",
       "      <td>178</td>\n",
       "      <td>3122</td>\n",
       "      <td>78</td>\n",
       "      <td>1907</td>\n",
       "      <td>27</td>\n",
       "      <td>1720</td>\n",
       "      <td>75</td>\n",
       "      <td>85</td>\n",
       "      <td>NaN</td>\n",
       "    </tr>\n",
       "    <tr>\n",
       "      <th>2</th>\n",
       "      <td>3173061005</td>\n",
       "      <td>DKI JAKARTA</td>\n",
       "      <td>JAKARTA BARAT</td>\n",
       "      <td>KALI DERES</td>\n",
       "      <td>PEGADUNGAN</td>\n",
       "      <td>588</td>\n",
       "      <td>6</td>\n",
       "      <td>581</td>\n",
       "      <td>1</td>\n",
       "      <td>83</td>\n",
       "      <td>4</td>\n",
       "      <td>73</td>\n",
       "      <td>6</td>\n",
       "      <td>53</td>\n",
       "      <td>5</td>\n",
       "      <td>41</td>\n",
       "      <td>4</td>\n",
       "      <td>3</td>\n",
       "      <td>NaN</td>\n",
       "    </tr>\n",
       "    <tr>\n",
       "      <th>3</th>\n",
       "      <td>3174071006</td>\n",
       "      <td>DKI JAKARTA</td>\n",
       "      <td>JAKARTA SELATAN</td>\n",
       "      <td>KEBAYORAN BARU</td>\n",
       "      <td>SENAYAN</td>\n",
       "      <td>23</td>\n",
       "      <td>0</td>\n",
       "      <td>23</td>\n",
       "      <td>0</td>\n",
       "      <td>18</td>\n",
       "      <td>1</td>\n",
       "      <td>17</td>\n",
       "      <td>0</td>\n",
       "      <td>16</td>\n",
       "      <td>0</td>\n",
       "      <td>16</td>\n",
       "      <td>0</td>\n",
       "      <td>0</td>\n",
       "      <td>NaN</td>\n",
       "    </tr>\n",
       "    <tr>\n",
       "      <th>4</th>\n",
       "      <td>3173051001</td>\n",
       "      <td>DKI JAKARTA</td>\n",
       "      <td>JAKARTA BARAT</td>\n",
       "      <td>KEBON JERUK</td>\n",
       "      <td>KEBON JERUK</td>\n",
       "      <td>753</td>\n",
       "      <td>4</td>\n",
       "      <td>748</td>\n",
       "      <td>1</td>\n",
       "      <td>74</td>\n",
       "      <td>4</td>\n",
       "      <td>67</td>\n",
       "      <td>3</td>\n",
       "      <td>76</td>\n",
       "      <td>1</td>\n",
       "      <td>50</td>\n",
       "      <td>7</td>\n",
       "      <td>18</td>\n",
       "      <td>NaN</td>\n",
       "    </tr>\n",
       "    <tr>\n",
       "      <th>...</th>\n",
       "      <td>...</td>\n",
       "      <td>...</td>\n",
       "      <td>...</td>\n",
       "      <td>...</td>\n",
       "      <td>...</td>\n",
       "      <td>...</td>\n",
       "      <td>...</td>\n",
       "      <td>...</td>\n",
       "      <td>...</td>\n",
       "      <td>...</td>\n",
       "      <td>...</td>\n",
       "      <td>...</td>\n",
       "      <td>...</td>\n",
       "      <td>...</td>\n",
       "      <td>...</td>\n",
       "      <td>...</td>\n",
       "      <td>...</td>\n",
       "      <td>...</td>\n",
       "      <td>...</td>\n",
       "    </tr>\n",
       "    <tr>\n",
       "      <th>95</th>\n",
       "      <td>3171051003</td>\n",
       "      <td>DKI JAKARTA</td>\n",
       "      <td>JAKARTA PUSAT</td>\n",
       "      <td>CEMPAKA PUTIH</td>\n",
       "      <td>RAWASARI</td>\n",
       "      <td>464</td>\n",
       "      <td>3</td>\n",
       "      <td>461</td>\n",
       "      <td>0</td>\n",
       "      <td>77</td>\n",
       "      <td>0</td>\n",
       "      <td>75</td>\n",
       "      <td>2</td>\n",
       "      <td>18</td>\n",
       "      <td>2</td>\n",
       "      <td>12</td>\n",
       "      <td>2</td>\n",
       "      <td>2</td>\n",
       "      <td>NaN</td>\n",
       "    </tr>\n",
       "    <tr>\n",
       "      <th>96</th>\n",
       "      <td>3173021005</td>\n",
       "      <td>DKI JAKARTA</td>\n",
       "      <td>JAKARTA BARAT</td>\n",
       "      <td>GROGOL PETAMBURAN</td>\n",
       "      <td>TANJUNG DUREN SELATAN</td>\n",
       "      <td>227</td>\n",
       "      <td>1</td>\n",
       "      <td>226</td>\n",
       "      <td>0</td>\n",
       "      <td>30</td>\n",
       "      <td>4</td>\n",
       "      <td>25</td>\n",
       "      <td>1</td>\n",
       "      <td>41</td>\n",
       "      <td>1</td>\n",
       "      <td>26</td>\n",
       "      <td>5</td>\n",
       "      <td>9</td>\n",
       "      <td>NaN</td>\n",
       "    </tr>\n",
       "    <tr>\n",
       "      <th>97</th>\n",
       "      <td>3175031002</td>\n",
       "      <td>DKI JAKARTA</td>\n",
       "      <td>JAKARTA TIMUR</td>\n",
       "      <td>JATINEGARA</td>\n",
       "      <td>BIDARA CINA</td>\n",
       "      <td>111</td>\n",
       "      <td>1</td>\n",
       "      <td>110</td>\n",
       "      <td>0</td>\n",
       "      <td>10</td>\n",
       "      <td>0</td>\n",
       "      <td>8</td>\n",
       "      <td>2</td>\n",
       "      <td>51</td>\n",
       "      <td>4</td>\n",
       "      <td>23</td>\n",
       "      <td>7</td>\n",
       "      <td>17</td>\n",
       "      <td>NaN</td>\n",
       "    </tr>\n",
       "    <tr>\n",
       "      <th>98</th>\n",
       "      <td>3174021002</td>\n",
       "      <td>DKI JAKARTA</td>\n",
       "      <td>JAKARTA SELATAN</td>\n",
       "      <td>SETIA BUDI</td>\n",
       "      <td>KARET SEMANGGI</td>\n",
       "      <td>61</td>\n",
       "      <td>0</td>\n",
       "      <td>61</td>\n",
       "      <td>0</td>\n",
       "      <td>15</td>\n",
       "      <td>0</td>\n",
       "      <td>14</td>\n",
       "      <td>1</td>\n",
       "      <td>5</td>\n",
       "      <td>0</td>\n",
       "      <td>3</td>\n",
       "      <td>2</td>\n",
       "      <td>0</td>\n",
       "      <td>NaN</td>\n",
       "    </tr>\n",
       "    <tr>\n",
       "      <th>99</th>\n",
       "      <td>3173081006</td>\n",
       "      <td>DKI JAKARTA</td>\n",
       "      <td>JAKARTA BARAT</td>\n",
       "      <td>KEMBANGAN</td>\n",
       "      <td>KEMBANGAN SELATAN</td>\n",
       "      <td>161</td>\n",
       "      <td>1</td>\n",
       "      <td>160</td>\n",
       "      <td>0</td>\n",
       "      <td>21</td>\n",
       "      <td>1</td>\n",
       "      <td>19</td>\n",
       "      <td>1</td>\n",
       "      <td>30</td>\n",
       "      <td>3</td>\n",
       "      <td>22</td>\n",
       "      <td>1</td>\n",
       "      <td>4</td>\n",
       "      <td>NaN</td>\n",
       "    </tr>\n",
       "  </tbody>\n",
       "</table>\n",
       "<p>100 rows × 19 columns</p>\n",
       "</div>"
      ],
      "text/plain": [
       "              id_kel     nama_provinsi         nama_kota     nama_kecamatan  \\\n",
       "0    BELUM DIKETAHUI   BELUM DIKETAHUI   BELUM DIKETAHUI    BELUM DIKETAHUI   \n",
       "1   LUAR DKI JAKARTA  LUAR DKI JAKARTA  LUAR DKI JAKARTA   LUAR DKI JAKARTA   \n",
       "2         3173061005       DKI JAKARTA     JAKARTA BARAT         KALI DERES   \n",
       "3         3174071006       DKI JAKARTA   JAKARTA SELATAN     KEBAYORAN BARU   \n",
       "4         3173051001       DKI JAKARTA     JAKARTA BARAT        KEBON JERUK   \n",
       "..               ...               ...               ...                ...   \n",
       "95        3171051003       DKI JAKARTA     JAKARTA PUSAT      CEMPAKA PUTIH   \n",
       "96        3173021005       DKI JAKARTA     JAKARTA BARAT  GROGOL PETAMBURAN   \n",
       "97        3175031002       DKI JAKARTA     JAKARTA TIMUR         JATINEGARA   \n",
       "98        3174021002       DKI JAKARTA   JAKARTA SELATAN         SETIA BUDI   \n",
       "99        3173081006       DKI JAKARTA     JAKARTA BARAT          KEMBANGAN   \n",
       "\n",
       "           nama_kelurahan    odp  proses_pemantauan  selesai_pemantauan  \\\n",
       "0         BELUM DIKETAHUI  13097                  2               13036   \n",
       "1        LUAR DKI JAKARTA  13869                260               13597   \n",
       "2              PEGADUNGAN    588                  6                 581   \n",
       "3                 SENAYAN     23                  0                  23   \n",
       "4             KEBON JERUK    753                  4                 748   \n",
       "..                    ...    ...                ...                 ...   \n",
       "95               RAWASARI    464                  3                 461   \n",
       "96  TANJUNG DUREN SELATAN    227                  1                 226   \n",
       "97            BIDARA CINA    111                  1                 110   \n",
       "98         KARET SEMANGGI     61                  0                  61   \n",
       "99      KEMBANGAN SELATAN    161                  1                 160   \n",
       "\n",
       "    odp_meninggal   pdp  masih_dirawat  pulang_dan_sehat  pdp_meninggal  \\\n",
       "0              59  5301              5              3736           1560   \n",
       "1              12  3378            178              3122             78   \n",
       "2               1    83              4                73              6   \n",
       "3               0    18              1                17              0   \n",
       "4               1    74              4                67              3   \n",
       "..            ...   ...            ...               ...            ...   \n",
       "95              0    77              0                75              2   \n",
       "96              0    30              4                25              1   \n",
       "97              0    10              0                 8              2   \n",
       "98              0    15              0                14              1   \n",
       "99              0    21              1                19              1   \n",
       "\n",
       "    positif  dirawat  sembuh  meninggal  self_isolation  keterangan  \n",
       "0      1486      221     289         25             951         NaN  \n",
       "1      1907       27    1720         75              85         NaN  \n",
       "2        53        5      41          4               3         NaN  \n",
       "3        16        0      16          0               0         NaN  \n",
       "4        76        1      50          7              18         NaN  \n",
       "..      ...      ...     ...        ...             ...         ...  \n",
       "95       18        2      12          2               2         NaN  \n",
       "96       41        1      26          5               9         NaN  \n",
       "97       51        4      23          7              17         NaN  \n",
       "98        5        0       3          2               0         NaN  \n",
       "99       30        3      22          1               4         NaN  \n",
       "\n",
       "[100 rows x 19 columns]"
      ]
     },
     "execution_count": 1,
     "metadata": {},
     "output_type": "execute_result"
    }
   ],
   "source": [
    "from pandas import read_csv\n",
    "import pandas as pd\n",
    "from pandas import read_csv\n",
    "from sklearn.preprocessing import OrdinalEncoder\n",
    "from sklearn.feature_selection import SelectKBest\n",
    "from sklearn.feature_selection import mutual_info_classif\n",
    "from sklearn.model_selection import train_test_split\n",
    "from sklearn.linear_model import LogisticRegression\n",
    "from sklearn.metrics import accuracy_score\n",
    "from sklearn.feature_selection import f_classif\n",
    "from sklearn.feature_selection import f_regression, SelectKBest\n",
    "import numpy as np\n",
    "import seaborn as sns\n",
    "import matplotlib.pyplot as plt\n",
    "\n",
    "\n",
    "dframe = read_csv('data-rekap-harian-kasus-covid-19-per-kelurahan-di-provinsi-dki-jakarta-bulan-juli-2020 (1).csv')\n",
    "dframe.head(100)"
   ]
  },
  {
   "cell_type": "markdown",
   "id": "8b44e8ab",
   "metadata": {},
   "source": [
    "# Data Cleaning  \n",
    "\n",
    "Dataset tersebut mempunyai banyak variabael. Saya hanya membutuhkan variabel yang menjelaskan tentang “dirawat”, “self_isolation” sebagai input dan “ sembuh” sebagai output. Variabel selain itu, dihapus.\n",
    "\n"
   ]
  },
  {
   "cell_type": "code",
   "execution_count": 2,
   "id": "fde6e7e4",
   "metadata": {},
   "outputs": [
    {
     "data": {
      "text/html": [
       "<div>\n",
       "<style scoped>\n",
       "    .dataframe tbody tr th:only-of-type {\n",
       "        vertical-align: middle;\n",
       "    }\n",
       "\n",
       "    .dataframe tbody tr th {\n",
       "        vertical-align: top;\n",
       "    }\n",
       "\n",
       "    .dataframe thead th {\n",
       "        text-align: right;\n",
       "    }\n",
       "</style>\n",
       "<table border=\"1\" class=\"dataframe\">\n",
       "  <thead>\n",
       "    <tr style=\"text-align: right;\">\n",
       "      <th></th>\n",
       "      <th>dirawat</th>\n",
       "      <th>sembuh</th>\n",
       "      <th>self_isolation</th>\n",
       "    </tr>\n",
       "  </thead>\n",
       "  <tbody>\n",
       "    <tr>\n",
       "      <th>0</th>\n",
       "      <td>221</td>\n",
       "      <td>289</td>\n",
       "      <td>951</td>\n",
       "    </tr>\n",
       "    <tr>\n",
       "      <th>1</th>\n",
       "      <td>27</td>\n",
       "      <td>1720</td>\n",
       "      <td>85</td>\n",
       "    </tr>\n",
       "    <tr>\n",
       "      <th>2</th>\n",
       "      <td>5</td>\n",
       "      <td>41</td>\n",
       "      <td>3</td>\n",
       "    </tr>\n",
       "    <tr>\n",
       "      <th>3</th>\n",
       "      <td>0</td>\n",
       "      <td>16</td>\n",
       "      <td>0</td>\n",
       "    </tr>\n",
       "    <tr>\n",
       "      <th>4</th>\n",
       "      <td>1</td>\n",
       "      <td>50</td>\n",
       "      <td>18</td>\n",
       "    </tr>\n",
       "    <tr>\n",
       "      <th>...</th>\n",
       "      <td>...</td>\n",
       "      <td>...</td>\n",
       "      <td>...</td>\n",
       "    </tr>\n",
       "    <tr>\n",
       "      <th>264</th>\n",
       "      <td>0</td>\n",
       "      <td>10</td>\n",
       "      <td>2</td>\n",
       "    </tr>\n",
       "    <tr>\n",
       "      <th>265</th>\n",
       "      <td>0</td>\n",
       "      <td>1</td>\n",
       "      <td>1</td>\n",
       "    </tr>\n",
       "    <tr>\n",
       "      <th>266</th>\n",
       "      <td>0</td>\n",
       "      <td>2</td>\n",
       "      <td>2</td>\n",
       "    </tr>\n",
       "    <tr>\n",
       "      <th>267</th>\n",
       "      <td>0</td>\n",
       "      <td>2</td>\n",
       "      <td>3</td>\n",
       "    </tr>\n",
       "    <tr>\n",
       "      <th>268</th>\n",
       "      <td>0</td>\n",
       "      <td>0</td>\n",
       "      <td>0</td>\n",
       "    </tr>\n",
       "  </tbody>\n",
       "</table>\n",
       "<p>269 rows × 3 columns</p>\n",
       "</div>"
      ],
      "text/plain": [
       "     dirawat  sembuh  self_isolation\n",
       "0        221     289             951\n",
       "1         27    1720              85\n",
       "2          5      41               3\n",
       "3          0      16               0\n",
       "4          1      50              18\n",
       "..       ...     ...             ...\n",
       "264        0      10               2\n",
       "265        0       1               1\n",
       "266        0       2               2\n",
       "267        0       2               3\n",
       "268        0       0               0\n",
       "\n",
       "[269 rows x 3 columns]"
      ]
     },
     "execution_count": 2,
     "metadata": {},
     "output_type": "execute_result"
    }
   ],
   "source": [
    "data_frame = dframe.drop(dframe.columns[[0, 1, 2,3,4,5,6,7,8,9,10,11,12,13,16,18]], axis=1)\n",
    "data_frame"
   ]
  },
  {
   "cell_type": "code",
   "execution_count": 3,
   "id": "cdaf3353",
   "metadata": {},
   "outputs": [
    {
     "name": "stdout",
     "output_type": "stream",
     "text": [
      "dirawat           68\n",
      "sembuh             5\n",
      "self_isolation    25\n",
      "dtype: int64\n"
     ]
    }
   ],
   "source": [
    "#memberi tanda (marking) pada data yang hilang\n",
    "num_missing = (data_frame[[\"dirawat\",\"sembuh\",\"self_isolation\"]] == 0).sum()\n",
    "print(num_missing)"
   ]
  },
  {
   "cell_type": "markdown",
   "id": "5597f02f",
   "metadata": {},
   "source": [
    "terlihat bahwa setiap data nya ada yang bernilai nol. \n",
    "Ini memungkinkan untuk kolom tersebut bernilai nol. jadi, saya akan membiarkan nilai nol tersebut. "
   ]
  },
  {
   "cell_type": "code",
   "execution_count": 4,
   "id": "af391571",
   "metadata": {},
   "outputs": [
    {
     "name": "stdout",
     "output_type": "stream",
     "text": [
      "data kosong : 0\n"
     ]
    }
   ],
   "source": [
    "data_kosong= data_frame.isnull().values.any().sum()\n",
    "print(\"data kosong :\", data_kosong)"
   ]
  },
  {
   "cell_type": "markdown",
   "id": "23b3f28b",
   "metadata": {},
   "source": [
    "data yang kosong juga tidak ada. Maka, tidak ada yang perlu dikawatirkan."
   ]
  },
  {
   "cell_type": "markdown",
   "id": "5086d101",
   "metadata": {},
   "source": [
    "#### cek outlier"
   ]
  },
  {
   "cell_type": "code",
   "execution_count": 5,
   "id": "27245f90",
   "metadata": {},
   "outputs": [
    {
     "data": {
      "image/png": "[encoded data removed]",
      "text/plain": [
       "<Figure size 288x432 with 1 Axes>"
      ]
     },
     "metadata": {
      "needs_background": "light"
     },
     "output_type": "display_data"
    }
   ],
   "source": [
    "#sembuh\n",
    "data_frame['self_isolation'].plot(kind='box',figsize=(4,6))\n",
    "plt.title(\"self_isolation\")\n",
    "plt.ylim(0,50)\n",
    "plt.show()"
   ]
  },
  {
   "cell_type": "markdown",
   "id": "a1cbceb5",
   "metadata": {},
   "source": [
    "Berdasarkan pengaturan default pandas boxplot (1,5 * IQR), kita dapat melihat bahwa ada beberapa sampel yang dianggap sebagai outlier.\n",
    "\n",
    "Saya ingin membandingkan karakteristik pasien yang dianggap outlier atas dan bukan."
   ]
  },
  {
   "cell_type": "code",
   "execution_count": 6,
   "id": "987d3608",
   "metadata": {},
   "outputs": [],
   "source": [
    "IQR = data_frame['self_isolation'].quantile(.75) - data_frame['self_isolation'].quantile(.25)\n",
    "df_upper_outliers = data_frame[data_frame['self_isolation'] > 1.5 * IQR + data_frame['self_isolation'].quantile(.75)]\n",
    "df_normal= data_frame[data_frame['self_isolation'] <= 1.5 * IQR + data_frame['self_isolation'].quantile(.75)]\n"
   ]
  },
  {
   "cell_type": "code",
   "execution_count": 7,
   "id": "608fe7c1",
   "metadata": {},
   "outputs": [
    {
     "data": {
      "text/html": [
       "<div>\n",
       "<style scoped>\n",
       "    .dataframe tbody tr th:only-of-type {\n",
       "        vertical-align: middle;\n",
       "    }\n",
       "\n",
       "    .dataframe tbody tr th {\n",
       "        vertical-align: top;\n",
       "    }\n",
       "\n",
       "    .dataframe thead th {\n",
       "        text-align: right;\n",
       "    }\n",
       "</style>\n",
       "<table border=\"1\" class=\"dataframe\">\n",
       "  <thead>\n",
       "    <tr style=\"text-align: right;\">\n",
       "      <th></th>\n",
       "      <th>dirawat</th>\n",
       "      <th>sembuh</th>\n",
       "      <th>self_isolation</th>\n",
       "    </tr>\n",
       "  </thead>\n",
       "  <tbody>\n",
       "    <tr>\n",
       "      <th>count</th>\n",
       "      <td>20.000000</td>\n",
       "      <td>20.000000</td>\n",
       "      <td>20.000000</td>\n",
       "    </tr>\n",
       "    <tr>\n",
       "      <th>mean</th>\n",
       "      <td>16.850000</td>\n",
       "      <td>134.650000</td>\n",
       "      <td>86.550000</td>\n",
       "    </tr>\n",
       "    <tr>\n",
       "      <th>std</th>\n",
       "      <td>48.477097</td>\n",
       "      <td>378.098744</td>\n",
       "      <td>204.602689</td>\n",
       "    </tr>\n",
       "    <tr>\n",
       "      <th>min</th>\n",
       "      <td>0.000000</td>\n",
       "      <td>6.000000</td>\n",
       "      <td>24.000000</td>\n",
       "    </tr>\n",
       "    <tr>\n",
       "      <th>25%</th>\n",
       "      <td>3.000000</td>\n",
       "      <td>24.750000</td>\n",
       "      <td>26.000000</td>\n",
       "    </tr>\n",
       "    <tr>\n",
       "      <th>50%</th>\n",
       "      <td>4.000000</td>\n",
       "      <td>31.500000</td>\n",
       "      <td>30.000000</td>\n",
       "    </tr>\n",
       "    <tr>\n",
       "      <th>75%</th>\n",
       "      <td>5.250000</td>\n",
       "      <td>54.000000</td>\n",
       "      <td>55.250000</td>\n",
       "    </tr>\n",
       "    <tr>\n",
       "      <th>max</th>\n",
       "      <td>221.000000</td>\n",
       "      <td>1720.000000</td>\n",
       "      <td>951.000000</td>\n",
       "    </tr>\n",
       "  </tbody>\n",
       "</table>\n",
       "</div>"
      ],
      "text/plain": [
       "          dirawat       sembuh  self_isolation\n",
       "count   20.000000    20.000000       20.000000\n",
       "mean    16.850000   134.650000       86.550000\n",
       "std     48.477097   378.098744      204.602689\n",
       "min      0.000000     6.000000       24.000000\n",
       "25%      3.000000    24.750000       26.000000\n",
       "50%      4.000000    31.500000       30.000000\n",
       "75%      5.250000    54.000000       55.250000\n",
       "max    221.000000  1720.000000      951.000000"
      ]
     },
     "execution_count": 7,
     "metadata": {},
     "output_type": "execute_result"
    }
   ],
   "source": [
    "df_upper_outliers.describe()"
   ]
  },
  {
   "cell_type": "code",
   "execution_count": 8,
   "id": "2e60cd1c",
   "metadata": {},
   "outputs": [
    {
     "data": {
      "text/html": [
       "<div>\n",
       "<style scoped>\n",
       "    .dataframe tbody tr th:only-of-type {\n",
       "        vertical-align: middle;\n",
       "    }\n",
       "\n",
       "    .dataframe tbody tr th {\n",
       "        vertical-align: top;\n",
       "    }\n",
       "\n",
       "    .dataframe thead th {\n",
       "        text-align: right;\n",
       "    }\n",
       "</style>\n",
       "<table border=\"1\" class=\"dataframe\">\n",
       "  <thead>\n",
       "    <tr style=\"text-align: right;\">\n",
       "      <th></th>\n",
       "      <th>dirawat</th>\n",
       "      <th>sembuh</th>\n",
       "      <th>self_isolation</th>\n",
       "    </tr>\n",
       "  </thead>\n",
       "  <tbody>\n",
       "    <tr>\n",
       "      <th>count</th>\n",
       "      <td>249.000000</td>\n",
       "      <td>249.000000</td>\n",
       "      <td>249.000000</td>\n",
       "    </tr>\n",
       "    <tr>\n",
       "      <th>mean</th>\n",
       "      <td>1.875502</td>\n",
       "      <td>16.779116</td>\n",
       "      <td>6.526104</td>\n",
       "    </tr>\n",
       "    <tr>\n",
       "      <th>std</th>\n",
       "      <td>2.107150</td>\n",
       "      <td>15.928881</td>\n",
       "      <td>5.048187</td>\n",
       "    </tr>\n",
       "    <tr>\n",
       "      <th>min</th>\n",
       "      <td>0.000000</td>\n",
       "      <td>0.000000</td>\n",
       "      <td>0.000000</td>\n",
       "    </tr>\n",
       "    <tr>\n",
       "      <th>25%</th>\n",
       "      <td>0.000000</td>\n",
       "      <td>7.000000</td>\n",
       "      <td>3.000000</td>\n",
       "    </tr>\n",
       "    <tr>\n",
       "      <th>50%</th>\n",
       "      <td>1.000000</td>\n",
       "      <td>13.000000</td>\n",
       "      <td>5.000000</td>\n",
       "    </tr>\n",
       "    <tr>\n",
       "      <th>75%</th>\n",
       "      <td>3.000000</td>\n",
       "      <td>22.000000</td>\n",
       "      <td>9.000000</td>\n",
       "    </tr>\n",
       "    <tr>\n",
       "      <th>max</th>\n",
       "      <td>12.000000</td>\n",
       "      <td>140.000000</td>\n",
       "      <td>21.000000</td>\n",
       "    </tr>\n",
       "  </tbody>\n",
       "</table>\n",
       "</div>"
      ],
      "text/plain": [
       "          dirawat      sembuh  self_isolation\n",
       "count  249.000000  249.000000      249.000000\n",
       "mean     1.875502   16.779116        6.526104\n",
       "std      2.107150   15.928881        5.048187\n",
       "min      0.000000    0.000000        0.000000\n",
       "25%      0.000000    7.000000        3.000000\n",
       "50%      1.000000   13.000000        5.000000\n",
       "75%      3.000000   22.000000        9.000000\n",
       "max     12.000000  140.000000       21.000000"
      ]
     },
     "execution_count": 8,
     "metadata": {},
     "output_type": "execute_result"
    }
   ],
   "source": [
    "df_normal.describe()"
   ]
  },
  {
   "cell_type": "markdown",
   "id": "282bca4d",
   "metadata": {},
   "source": [
    "- Mean `sembuh`       : 134.65 vs 16.77\n",
    "- Mean `dirawat`         : 16.85 vs 1.87\n",
    "- Mean `self_isolation`  : 86.55 vs 6.52\n"
   ]
  },
  {
   "cell_type": "markdown",
   "id": "4a67060d",
   "metadata": {},
   "source": [
    "Jelas bahwa sampel yang dianggap outlier berdasarkan self_isolation memiliki sebaran data yang sangat berbeda dengan sampel yang dianggap normal. Jadi, kita jelas tidak bisa menghilangkan outlier ini."
   ]
  },
  {
   "cell_type": "markdown",
   "id": "b10097a6",
   "metadata": {},
   "source": [
    "# seleksi fitur"
   ]
  },
  {
   "cell_type": "markdown",
   "id": "4982419f",
   "metadata": {},
   "source": [
    "#### Feature Selection using Anova"
   ]
  },
  {
   "cell_type": "code",
   "execution_count": 9,
   "id": "0b1fe1c2",
   "metadata": {},
   "outputs": [
    {
     "name": "stdout",
     "output_type": "stream",
     "text": [
      "<class 'pandas.core.frame.DataFrame'>\n",
      "<class 'pandas.core.series.Series'>\n",
      "(269, 2)\n",
      "(269,)\n"
     ]
    }
   ],
   "source": [
    "X = data_frame.drop(labels=[\"sembuh\"],axis=1) # Features\n",
    "y = data_frame[\"sembuh\"] # Target\n",
    "\n",
    "print(type(X))\n",
    "print(type(y))\n",
    "print(X.shape)\n",
    "print(y.shape)"
   ]
  },
  {
   "cell_type": "code",
   "execution_count": 10,
   "id": "b93fd2c6",
   "metadata": {},
   "outputs": [
    {
     "data": {
      "text/plain": [
       "'\\nf_regression()\\nUnivariate linear regression tests.\\n\\nLinear model for testing the individual effect of each of many regressors.\\nThis is a scoring function to be used in a feature selection procedure, not\\na free standing feature selection procedure.\\n\\nThis is done in 2 steps:\\n\\n1. The correlation between each regressor and the target is computed,\\n   that is, ((X[:, i] - mean(X[:, i])) * (y - mean_y)) / (std(X[:, i]) *\\n   std(y)).\\n2. It is converted to an F score then to a p-value.\\n'"
      ]
     },
     "execution_count": 10,
     "metadata": {},
     "output_type": "execute_result"
    }
   ],
   "source": [
    "\n",
    "\"\"\"\n",
    "f_regression()\n",
    "Univariate linear regression tests.\n",
    "\n",
    "Linear model for testing the individual effect of each of many regressors.\n",
    "This is a scoring function to be used in a feature selection procedure, not\n",
    "a free standing feature selection procedure.\n",
    "\n",
    "This is done in 2 steps:\n",
    "\n",
    "1. The correlation between each regressor and the target is computed,\n",
    "   that is, ((X[:, i] - mean(X[:, i])) * (y - mean_y)) / (std(X[:, i]) *\n",
    "   std(y)).\n",
    "2. It is converted to an F score then to a p-value.\n",
    "\"\"\" \n"
   ]
  },
  {
   "cell_type": "code",
   "execution_count": 11,
   "id": "fb732e84",
   "metadata": {},
   "outputs": [],
   "source": [
    "# apply SelectKBest class to extract top 3 best features\n",
    "fs = SelectKBest(score_func=f_regression,k=2) ## Select k as per your business understaing\n",
    "# Apply feature selection\n",
    "fit = fs.fit(X,y)"
   ]
  },
  {
   "cell_type": "code",
   "execution_count": 12,
   "id": "ddf7bf82",
   "metadata": {},
   "outputs": [
    {
     "name": "stdout",
     "output_type": "stream",
     "text": [
      "[0.     0.0001]\n",
      "[21.298 16.057]\n"
     ]
    }
   ],
   "source": [
    "print(np.round(fit.pvalues_,4))\n",
    "print(np.round(fit.scores_,3))"
   ]
  },
  {
   "cell_type": "code",
   "execution_count": 13,
   "id": "69dd78e6",
   "metadata": {},
   "outputs": [
    {
     "name": "stdout",
     "output_type": "stream",
     "text": [
      "   Input_Features    F_Score  P_Value\n",
      "0         dirawat  21.297618   0.0000\n",
      "1  self_isolation  16.057060   0.0001\n"
     ]
    }
   ],
   "source": [
    "features_score = pd.DataFrame(fit.scores_)\n",
    "features_pvalue = pd.DataFrame(np.round(fit.pvalues_,4))\n",
    "features = pd.DataFrame(X.columns)\n",
    "feature_score = pd.concat([features,features_score,features_pvalue],axis=1)\n",
    "# Assign the column name\n",
    "feature_score.columns = [\"Input_Features\",\"F_Score\",\"P_Value\"]\n",
    "print(feature_score.nlargest(3,columns=\"F_Score\"))"
   ]
  },
  {
   "cell_type": "markdown",
   "id": "c7c66e6c",
   "metadata": {},
   "source": [
    "Dengan metode anova, terlihat bahwa fitur yang paling berhubungan dengan output (\"sembuh\") adalah \"dirawat\""
   ]
  },
  {
   "cell_type": "markdown",
   "id": "e2518824",
   "metadata": {},
   "source": [
    "#### Feature Selection using Mutual Imputation"
   ]
  },
  {
   "cell_type": "code",
   "execution_count": 14,
   "id": "fbdadc83",
   "metadata": {},
   "outputs": [],
   "source": [
    "### Train test split to avoid overfitting\n",
    "from sklearn.model_selection import train_test_split\n",
    "X_train,X_test,y_train,y_test=train_test_split(data_frame.drop(labels=['sembuh'], axis=1),\n",
    "    data_frame['sembuh'],\n",
    "    test_size=0.3,\n",
    "    random_state=0)"
   ]
  },
  {
   "cell_type": "code",
   "execution_count": 15,
   "id": "498cf21c",
   "metadata": {},
   "outputs": [
    {
     "data": {
      "text/plain": [
       "array([0.25574667, 0.12521694])"
      ]
     },
     "execution_count": 15,
     "metadata": {},
     "output_type": "execute_result"
    }
   ],
   "source": [
    "from sklearn.feature_selection import mutual_info_classif\n",
    "# determine the mutual information\n",
    "mutual_info = mutual_info_classif(X_train, y_train)\n",
    "mutual_info"
   ]
  },
  {
   "cell_type": "code",
   "execution_count": 16,
   "id": "76b8884d",
   "metadata": {},
   "outputs": [
    {
     "data": {
      "text/plain": [
       "dirawat           0.255747\n",
       "self_isolation    0.125217\n",
       "dtype: float64"
      ]
     },
     "execution_count": 16,
     "metadata": {},
     "output_type": "execute_result"
    }
   ],
   "source": [
    "mutual_info = pd.Series(mutual_info)\n",
    "mutual_info.index = X_train.columns\n",
    "mutual_info.sort_values(ascending=False)"
   ]
  },
  {
   "cell_type": "markdown",
   "id": "cdc4a46b",
   "metadata": {},
   "source": [
    "Nilai yang lebih tinggi berarti ketergantungan lebih tinggi"
   ]
  },
  {
   "cell_type": "code",
   "execution_count": 19,
   "id": "c635e6db",
   "metadata": {},
   "outputs": [
    {
     "data": {
      "text/plain": [
       "<function matplotlib.pyplot.show(close=None, block=None)>"
      ]
     },
     "execution_count": 19,
     "metadata": {},
     "output_type": "execute_result"
    },
    {
     "data": {
      "image/png": "[encoded data removed]",
      "text/plain": [
       "<Figure size 720x576 with 1 Axes>"
      ]
     },
     "metadata": {
      "needs_background": "light"
     },
     "output_type": "display_data"
    }
   ],
   "source": [
    "#let's plot the ordered mutual_info values per feature\n",
    "mutual_info.sort_values(ascending=False).plot.bar(figsize=(10, 8))\n",
    "plt.ylabel('Mutual info', size=10)\n",
    "plt.show"
   ]
  },
  {
   "cell_type": "markdown",
   "id": "25f9c94d",
   "metadata": {},
   "source": [
    "## Kesimpulan\n",
    "Jadi, berdasarkan proses di atas, maka dapat disimpulkan bahwa  tindakan yang paling baik ketika positif covid adalah \"dirawat\""
   ]
  },
  {
   "cell_type": "code",
   "execution_count": null,
   "id": "85e42f17",
   "metadata": {},
   "outputs": [],
   "source": []
  }
 ],
 "metadata": {
  "kernelspec": {
   "display_name": "Python 3",
   "language": "python",
   "name": "python3"
  },
  "language_info": {
   "codemirror_mode": {
    "name": "ipython",
    "version": 3
   },
   "file_extension": ".py",
   "mimetype": "text/x-python",
   "name": "python",
   "nbconvert_exporter": "python",
   "pygments_lexer": "ipython3",
   "version": "3.8.8"
  }
 },
 "nbformat": 4,
 "nbformat_minor": 5
}
